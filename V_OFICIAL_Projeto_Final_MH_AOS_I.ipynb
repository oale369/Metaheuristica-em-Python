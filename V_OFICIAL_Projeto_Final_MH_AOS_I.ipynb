{
  "nbformat": 4,
  "nbformat_minor": 0,
  "metadata": {
    "colab": {
      "provenance": []
    },
    "kernelspec": {
      "name": "python3",
      "display_name": "Python 3"
    }
  },
  "cells": [
    {
      "cell_type": "markdown",
      "metadata": {
        "id": "Ibkplre4h5f9"
      },
      "source": [
        "# Heurísticas para o problema de caminho mais curto (ou mínimo)\n"
      ]
    },
    {
      "cell_type": "markdown",
      "metadata": {
        "id": "xwznbReAxTgV"
      },
      "source": [
        "# Problema - trajeto de carro (consultora)"
      ]
    },
    {
      "cell_type": "code",
      "metadata": {
        "id": "JKxHpUbWwZAD"
      },
      "source": [
        "import numpy as np"
      ],
      "execution_count": null,
      "outputs": []
    },
    {
      "cell_type": "code",
      "metadata": {
        "id": "oqd-QV_9wbOo"
      },
      "source": [
        "vertices = {'Ponta-Grossa(PR)': 0, 'Arapoti(PR)': 1, 'Sao-Paulo(SP)': 2, 'Curitiba(PR)': 3, 'Guarapuava(PR)': 4,\n",
        "            'Bituruna(PR)': 5, 'Uniao-da-Vitoria(PR)': 6, 'Cacador(SC)': 7, 'Ponte-Alta-do-Norte(SC)': 8, 'Canoinhas(SC)': 9,\n",
        "            'Jaragua-do-Sul(SC)': 10, 'Pomerode(SC)': 11, 'Blumenau(SC)': 12, 'Gaspar(SC)': 13}"
      ],
      "execution_count": null,
      "outputs": []
    },
    {
      "cell_type": "code",
      "metadata": {
        "id": "z4UaaBlKwzYW",
        "colab": {
          "base_uri": "https://localhost:8080/"
        },
        "outputId": "5d6ee8b3-0c90-4f1c-ff9c-7f2e81d67af5"
      },
      "source": [
        "vertices['Ponta-Grossa(PR)'], vertices['Jaragua-do-Sul(SC)'], vertices['Bituruna(PR)']"
      ],
      "execution_count": null,
      "outputs": [
        {
          "output_type": "execute_result",
          "data": {
            "text/plain": [
              "(0, 10, 5)"
            ]
          },
          "metadata": {},
          "execution_count": 3
        }
      ]
    },
    {
      "cell_type": "code",
      "metadata": {
        "id": "HpWhJiYSxFW8",
        "colab": {
          "base_uri": "https://localhost:8080/"
        },
        "outputId": "5bed4c53-5708-42cd-a58d-80186e843c0d"
      },
      "source": [
        "len(vertices)"
      ],
      "execution_count": null,
      "outputs": [
        {
          "output_type": "execute_result",
          "data": {
            "text/plain": [
              "14"
            ]
          },
          "metadata": {},
          "execution_count": 4
        }
      ]
    },
    {
      "cell_type": "code",
      "metadata": {
        "id": "H0sJ0PbnxIyc"
      },
      "source": [
        "cidades = {0: 'Ponta-Grossa(PR)', 1: 'Arapoti(PR)', 2: 'Sao-Paulo(SP)', 3: 'Curitiba(PR)', 4: 'Guarapuava(PR)',\n",
        "           5: 'Bituruna(PR)', 6: 'Uniao-da-Vitoria(PR)', 7: 'Cacador(SC)', 8: 'Ponte-Alta-do-Norte(SC)', 9: 'Canoinhas(SC)',\n",
        "           10: 'Jaragua-do-Sul(SC)', 11: 'Pomerode(SC)', 12: 'Blumenau(SC)', 13: 'Gaspar(SC)'}"
      ],
      "execution_count": null,
      "outputs": []
    },
    {
      "cell_type": "code",
      "metadata": {
        "id": "avdcFzg8xTmc",
        "colab": {
          "base_uri": "https://localhost:8080/"
        },
        "outputId": "eacb6bcb-431d-464c-8c5c-84f588878949"
      },
      "source": [
        "cidades[0], cidades[12]"
      ],
      "execution_count": null,
      "outputs": [
        {
          "output_type": "execute_result",
          "data": {
            "text/plain": [
              "('Ponta-Grossa(PR)', 'Blumenau(SC)')"
            ]
          },
          "metadata": {},
          "execution_count": 6
        }
      ]
    },
    {
      "cell_type": "code",
      "metadata": {
        "id": "vQUCA3eexaRC"
      },
      "source": [
        "arestas = np.zeros([len(cidades), len(cidades)], dtype=int)"
      ],
      "execution_count": null,
      "outputs": []
    },
    {
      "cell_type": "code",
      "metadata": {
        "id": "aj900LRjxqMr",
        "colab": {
          "base_uri": "https://localhost:8080/"
        },
        "outputId": "121cb3d6-0759-4777-e773-04b6d6b3f3c3"
      },
      "source": [
        "arestas.shape"
      ],
      "execution_count": null,
      "outputs": [
        {
          "output_type": "execute_result",
          "data": {
            "text/plain": [
              "(14, 14)"
            ]
          },
          "metadata": {},
          "execution_count": 8
        }
      ]
    },
    {
      "cell_type": "code",
      "metadata": {
        "id": "mR_ihHnNxswU",
        "colab": {
          "base_uri": "https://localhost:8080/"
        },
        "outputId": "274f333d-d4df-46d2-977c-f4dc6a723fc2"
      },
      "source": [
        "arestas"
      ],
      "execution_count": null,
      "outputs": [
        {
          "output_type": "execute_result",
          "data": {
            "text/plain": [
              "array([[0, 0, 0, 0, 0, 0, 0, 0, 0, 0, 0, 0, 0, 0],\n",
              "       [0, 0, 0, 0, 0, 0, 0, 0, 0, 0, 0, 0, 0, 0],\n",
              "       [0, 0, 0, 0, 0, 0, 0, 0, 0, 0, 0, 0, 0, 0],\n",
              "       [0, 0, 0, 0, 0, 0, 0, 0, 0, 0, 0, 0, 0, 0],\n",
              "       [0, 0, 0, 0, 0, 0, 0, 0, 0, 0, 0, 0, 0, 0],\n",
              "       [0, 0, 0, 0, 0, 0, 0, 0, 0, 0, 0, 0, 0, 0],\n",
              "       [0, 0, 0, 0, 0, 0, 0, 0, 0, 0, 0, 0, 0, 0],\n",
              "       [0, 0, 0, 0, 0, 0, 0, 0, 0, 0, 0, 0, 0, 0],\n",
              "       [0, 0, 0, 0, 0, 0, 0, 0, 0, 0, 0, 0, 0, 0],\n",
              "       [0, 0, 0, 0, 0, 0, 0, 0, 0, 0, 0, 0, 0, 0],\n",
              "       [0, 0, 0, 0, 0, 0, 0, 0, 0, 0, 0, 0, 0, 0],\n",
              "       [0, 0, 0, 0, 0, 0, 0, 0, 0, 0, 0, 0, 0, 0],\n",
              "       [0, 0, 0, 0, 0, 0, 0, 0, 0, 0, 0, 0, 0, 0],\n",
              "       [0, 0, 0, 0, 0, 0, 0, 0, 0, 0, 0, 0, 0, 0]])"
            ]
          },
          "metadata": {},
          "execution_count": 9
        }
      ]
    },
    {
      "cell_type": "code",
      "metadata": {
        "id": "JfVrXF6kxyvJ",
        "colab": {
          "base_uri": "https://localhost:8080/"
        },
        "outputId": "1074da5e-5b6b-4635-d6f9-69655ec484f1"
      },
      "source": [
        "vertices['Ponta-Grossa(PR)'], vertices['Arapoti(PR)'], vertices['Curitiba(PR)'], vertices['Guarapuava(PR)']"
      ],
      "execution_count": null,
      "outputs": [
        {
          "output_type": "execute_result",
          "data": {
            "text/plain": [
              "(0, 1, 3, 4)"
            ]
          },
          "metadata": {},
          "execution_count": 10
        }
      ]
    },
    {
      "cell_type": "code",
      "metadata": {
        "id": "zczWU6t1xwfG"
      },
      "source": [
        "arestas[vertices['Ponta-Grossa(PR)'], [vertices['Arapoti(PR)']]] = 136\n",
        "arestas[vertices['Ponta-Grossa(PR)'], [vertices['Curitiba(PR)']]] = 114\n",
        "arestas[vertices['Ponta-Grossa(PR)'], [vertices['Guarapuava(PR)']]] = 131"
      ],
      "execution_count": null,
      "outputs": []
    },
    {
      "cell_type": "code",
      "metadata": {
        "id": "zaGsfNozyaCy"
      },
      "source": [
        "arestas[vertices['Arapoti(PR)'],[vertices['Ponta-Grossa(PR)']]] = 136\n",
        "arestas[vertices['Arapoti(PR)'],[vertices['Sao-Paulo(SP)']]] = 416\n",
        "\n",
        "arestas[vertices['Sao-Paulo(SP)'],[vertices['Arapoti(PR)']]] = 416\n",
        "arestas[vertices['Sao-Paulo(SP)'],[vertices['Curitiba(PR)']]] = 404\n",
        "\n",
        "arestas[vertices['Curitiba(PR)'],[vertices['Sao-Paulo(SP)']]] = 404\n",
        "arestas[vertices['Curitiba(PR)'],[vertices['Ponta-Grossa(PR)']]] = 114\n",
        "arestas[vertices['Curitiba(PR)'],[vertices['Pomerode(SC)']]] = 214\n",
        "arestas[vertices['Curitiba(PR)'],[vertices['Canoinhas(SC)']]] = 178\n",
        "\n",
        "arestas[vertices['Guarapuava(PR)'],[vertices['Ponta-Grossa(PR)']]] = 131\n",
        "arestas[vertices['Guarapuava(PR)'],[vertices['Bituruna(PR)']]] = 72\n",
        "\n",
        "arestas[vertices['Bituruna(PR)'],[vertices['Guarapuava(PR)']]] = 72\n",
        "arestas[vertices['Bituruna(PR)'],[vertices['Uniao-da-Vitoria(PR)']]] = 80\n",
        "\n",
        "arestas[vertices['Uniao-da-Vitoria(PR)'],[vertices['Bituruna(PR)']]] = 80\n",
        "arestas[vertices['Uniao-da-Vitoria(PR)'],[vertices['Cacador(SC)']]] = 90\n",
        "\n",
        "arestas[vertices['Cacador(SC)'],[vertices['Uniao-da-Vitoria(PR)']]] = 90\n",
        "arestas[vertices['Cacador(SC)'],[vertices['Ponte-Alta-do-Norte(SC)']]] = 100\n",
        "\n",
        "arestas[vertices['Ponte-Alta-do-Norte(SC)'],[vertices['Cacador(SC)']]] = 100\n",
        "arestas[vertices['Ponte-Alta-do-Norte(SC)'],[vertices['Jaragua-do-Sul(SC)']]] = 243\n",
        "arestas[vertices['Ponte-Alta-do-Norte(SC)'],[vertices['Canoinhas(SC)']]] = 144\n",
        "\n",
        "arestas[vertices['Canoinhas(SC)'],[vertices['Ponte-Alta-do-Norte(SC)']]] = 144\n",
        "arestas[vertices['Canoinhas(SC)'],[vertices['Curitiba(PR)']]] = 178\n",
        "arestas[vertices['Canoinhas(SC)'],[vertices['Jaragua-do-Sul(SC)']]] = 229\n",
        "\n",
        "arestas[vertices['Pomerode(SC)'],[vertices['Curitiba(PR)']]] = 214\n",
        "arestas[vertices['Pomerode(SC)'],[vertices['Blumenau(SC)']]] = 30\n",
        "\n",
        "arestas[vertices['Jaragua-do-Sul(SC)'],[vertices['Canoinhas(SC)']]] = 229\n",
        "arestas[vertices['Jaragua-do-Sul(SC)'],[vertices['Ponte-Alta-do-Norte(SC)']]] = 243\n",
        "arestas[vertices['Jaragua-do-Sul(SC)'],[vertices['Blumenau(SC)']]] = 67\n",
        "\n",
        "arestas[vertices['Blumenau(SC)'],[vertices['Pomerode(SC)']]] = 30\n",
        "arestas[vertices['Blumenau(SC)'],[vertices['Jaragua-do-Sul(SC)']]] = 67\n",
        "arestas[vertices['Blumenau(SC)'],[vertices['Gaspar(SC)']]] = 19"
      ],
      "execution_count": null,
      "outputs": []
    },
    {
      "cell_type": "code",
      "metadata": {
        "id": "o50AZN17yj3J",
        "colab": {
          "base_uri": "https://localhost:8080/"
        },
        "outputId": "d1644822-81f9-4afb-9acc-643045e981a5"
      },
      "source": [
        "arestas[vertices['Jaragua-do-Sul(SC)'],[vertices['Canoinhas(SC)']]]"
      ],
      "execution_count": null,
      "outputs": [
        {
          "output_type": "execute_result",
          "data": {
            "text/plain": [
              "array([229])"
            ]
          },
          "metadata": {},
          "execution_count": 13
        }
      ]
    },
    {
      "cell_type": "code",
      "metadata": {
        "id": "FZ5W_Um-yvxa",
        "colab": {
          "base_uri": "https://localhost:8080/"
        },
        "outputId": "a4fed744-aa03-41de-c399-42a0803de46f"
      },
      "source": [
        "arestas[vertices['Ponta-Grossa(PR)'],[vertices['Curitiba(PR)']]]"
      ],
      "execution_count": null,
      "outputs": [
        {
          "output_type": "execute_result",
          "data": {
            "text/plain": [
              "array([114])"
            ]
          },
          "metadata": {},
          "execution_count": 14
        }
      ]
    },
    {
      "cell_type": "markdown",
      "metadata": {
        "id": "KGAL7E756tDr"
      },
      "source": [
        "## Algoritmo de Dijkstra"
      ]
    },
    {
      "cell_type": "code",
      "metadata": {
        "id": "7v6yHjdUcQxd",
        "colab": {
          "base_uri": "https://localhost:8080/",
          "height": 35
        },
        "outputId": "2bb7f6c0-8339-4933-aefd-05b6e354dc3c"
      },
      "source": [
        "cidades[1]"
      ],
      "execution_count": null,
      "outputs": [
        {
          "output_type": "execute_result",
          "data": {
            "text/plain": [
              "'Arapoti(PR)'"
            ],
            "application/vnd.google.colaboratory.intrinsic+json": {
              "type": "string"
            }
          },
          "metadata": {},
          "execution_count": 15
        }
      ]
    },
    {
      "cell_type": "code",
      "metadata": {
        "id": "oilMqJnceI4-",
        "colab": {
          "base_uri": "https://localhost:8080/"
        },
        "outputId": "e9aaf4c1-c0dc-45b8-85c3-81599705e58e"
      },
      "source": [
        "import sys\n",
        "sys.maxsize"
      ],
      "execution_count": null,
      "outputs": [
        {
          "output_type": "execute_result",
          "data": {
            "text/plain": [
              "9223372036854775807"
            ]
          },
          "metadata": {},
          "execution_count": 16
        }
      ]
    },
    {
      "cell_type": "code",
      "metadata": {
        "id": "l8J220zNfUK9",
        "colab": {
          "base_uri": "https://localhost:8080/"
        },
        "outputId": "506b2a50-f910-46f6-e3c4-72cde2151e5d"
      },
      "source": [
        "[sys.maxsize] * 14"
      ],
      "execution_count": null,
      "outputs": [
        {
          "output_type": "execute_result",
          "data": {
            "text/plain": [
              "[9223372036854775807,\n",
              " 9223372036854775807,\n",
              " 9223372036854775807,\n",
              " 9223372036854775807,\n",
              " 9223372036854775807,\n",
              " 9223372036854775807,\n",
              " 9223372036854775807,\n",
              " 9223372036854775807,\n",
              " 9223372036854775807,\n",
              " 9223372036854775807,\n",
              " 9223372036854775807,\n",
              " 9223372036854775807,\n",
              " 9223372036854775807,\n",
              " 9223372036854775807]"
            ]
          },
          "metadata": {},
          "execution_count": 17
        }
      ]
    },
    {
      "cell_type": "code",
      "metadata": {
        "id": "jktBZGpkfuGR",
        "colab": {
          "base_uri": "https://localhost:8080/"
        },
        "outputId": "f07c3eae-3319-4c08-8342-8651ee3fa5e6"
      },
      "source": [
        "[False] * 14"
      ],
      "execution_count": null,
      "outputs": [
        {
          "output_type": "execute_result",
          "data": {
            "text/plain": [
              "[False,\n",
              " False,\n",
              " False,\n",
              " False,\n",
              " False,\n",
              " False,\n",
              " False,\n",
              " False,\n",
              " False,\n",
              " False,\n",
              " False,\n",
              " False,\n",
              " False,\n",
              " False]"
            ]
          },
          "metadata": {},
          "execution_count": 18
        }
      ]
    },
    {
      "cell_type": "code",
      "metadata": {
        "id": "JrXZi9Wfargm"
      },
      "source": [
        "import sys\n",
        "class Dijkstra:\n",
        "  def __init__(self, vertices, arestas, inicio):\n",
        "    self.tamanho = len(vertices)\n",
        "    self.vertices = vertices\n",
        "    self.grafo = arestas\n",
        "    self.inicio = inicio\n",
        "\n",
        "  def mostra_solucao(self, distancias):\n",
        "    print('Os trajetos mais curtos em relação à {}, são:'.format(self.vertices[self.inicio]))\n",
        "    for vertice in range(self.tamanho):\n",
        "      #if distancias[vertice] > 0:\n",
        "       print('\\n{}: {}Km'.format(self.vertices[vertice], distancias[vertice]))\n",
        "      #else:\n",
        "        #print('\\n---')\n",
        "\n",
        "\n",
        "  def distancia_minima(self, distancia, visitados):\n",
        "    minimo = sys.maxsize\n",
        "    for vertice in range(self.tamanho):\n",
        "      if distancia[vertice] < minimo and visitados[vertice] == False:\n",
        "        minimo = distancia[vertice]\n",
        "        indice_minimo = vertice\n",
        "    return indice_minimo\n",
        "\n",
        "  def dijkstra(self):\n",
        "    distancia = [sys.maxsize] * self.tamanho\n",
        "    distancia[self.inicio] = 0\n",
        "    visitados = [False] * self.tamanho\n",
        "\n",
        "    for _ in range(self.tamanho):\n",
        "      indice_minimo = self.distancia_minima(distancia, visitados)\n",
        "      visitados[indice_minimo] = True\n",
        "      for vertice in range(self.tamanho):\n",
        "        if self.grafo[indice_minimo][vertice] > 0 and visitados[vertice] == False \\\n",
        "            and distancia[vertice] > distancia[indice_minimo] + self.grafo[indice_minimo][vertice]:\n",
        "          distancia[vertice] = distancia[indice_minimo] + self.grafo[indice_minimo][vertice]\n",
        "\n",
        "    self.mostra_solucao(distancia)"
      ],
      "execution_count": null,
      "outputs": []
    },
    {
      "cell_type": "code",
      "metadata": {
        "id": "qteRTiCThnfG",
        "colab": {
          "base_uri": "https://localhost:8080/"
        },
        "outputId": "5a8527d4-47e4-4b73-e415-28ad0f5c24eb"
      },
      "source": [
        "dijkstra = Dijkstra(cidades, arestas, vertices['Ponta-Grossa(PR)'])\n",
        "dijkstra.dijkstra()"
      ],
      "execution_count": null,
      "outputs": [
        {
          "output_type": "stream",
          "name": "stdout",
          "text": [
            "Os trajetos mais curtos em relação à Ponta-Grossa(PR), são:\n",
            "\n",
            "Ponta-Grossa(PR): 0Km\n",
            "\n",
            "Arapoti(PR): 136Km\n",
            "\n",
            "Sao-Paulo(SP): 518Km\n",
            "\n",
            "Curitiba(PR): 114Km\n",
            "\n",
            "Guarapuava(PR): 131Km\n",
            "\n",
            "Bituruna(PR): 203Km\n",
            "\n",
            "Uniao-da-Vitoria(PR): 283Km\n",
            "\n",
            "Cacador(SC): 373Km\n",
            "\n",
            "Ponte-Alta-do-Norte(SC): 436Km\n",
            "\n",
            "Canoinhas(SC): 292Km\n",
            "\n",
            "Jaragua-do-Sul(SC): 425Km\n",
            "\n",
            "Pomerode(SC): 328Km\n",
            "\n",
            "Blumenau(SC): 358Km\n",
            "\n",
            "Gaspar(SC): 377Km\n"
          ]
        }
      ]
    }
  ]
}