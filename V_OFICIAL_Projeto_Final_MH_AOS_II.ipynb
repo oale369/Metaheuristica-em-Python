{
  "nbformat": 4,
  "nbformat_minor": 0,
  "metadata": {
    "colab": {
      "provenance": [],
      "collapsed_sections": [
        "O-sxvdN08XTI",
        "pDakgRDi8e_T",
        "dEH0j8yp8gQ5",
        "BP4Ahx0J8jI-"
      ]
    },
    "kernelspec": {
      "name": "python3",
      "display_name": "Python 3"
    },
    "language_info": {
      "name": "python"
    }
  },
  "cells": [
    {
      "cell_type": "markdown",
      "source": [
        "# Heurísticas para o problema de caminho mais curto (ou mínimo)\n"
      ],
      "metadata": {
        "id": "2lRU52sdTrr9"
      }
    },
    {
      "cell_type": "markdown",
      "source": [
        "# Problema - calendários de voos (consultora)"
      ],
      "metadata": {
        "id": "yfzxdDWY8K-x"
      }
    },
    {
      "cell_type": "code",
      "source": [
        "import time\n",
        "import random\n",
        "import math\n",
        "import sys"
      ],
      "metadata": {
        "id": "rf9vBwmA_bZo"
      },
      "execution_count": null,
      "outputs": []
    },
    {
      "cell_type": "code",
      "source": [
        "consultora = [('Ponta-Grossa(PR)', 'PGZ'),\n",
        "              ('Curitiba(PR)', 'CWB'),\n",
        "              ('Sao-Paulo(SP)', 'CGH'),\n",
        "              ('Navegantes(SC)', 'NVT'),\n",
        "              ('Guarulhos(SP)', 'GRU'),\n",
        "              ('Florianopolis(SC)', 'FLN')]"
      ],
      "metadata": {
        "id": "LinVSETT_piX"
      },
      "execution_count": null,
      "outputs": []
    },
    {
      "cell_type": "code",
      "source": [
        "consultora[3] # tupla"
      ],
      "metadata": {
        "colab": {
          "base_uri": "https://localhost:8080/"
        },
        "id": "yzEQZNU2AClS",
        "outputId": "196984ff-72fa-448e-8864-9e2581ae2433"
      },
      "execution_count": null,
      "outputs": [
        {
          "output_type": "execute_result",
          "data": {
            "text/plain": [
              "('Navegantes(SC)', 'NVT')"
            ]
          },
          "metadata": {},
          "execution_count": 12
        }
      ]
    },
    {
      "cell_type": "code",
      "source": [
        "destino = 'VCP' # Campinas(SP)"
      ],
      "metadata": {
        "id": "4AoeSQnaAOi3"
      },
      "execution_count": null,
      "outputs": []
    },
    {
      "cell_type": "code",
      "source": [
        "voos = {('PGZ', 'VCP'): ['8:45', '10:05', 735]}"
      ],
      "metadata": {
        "id": "V9Koio0UCF6c"
      },
      "execution_count": null,
      "outputs": []
    },
    {
      "cell_type": "code",
      "source": [
        "voos"
      ],
      "metadata": {
        "colab": {
          "base_uri": "https://localhost:8080/"
        },
        "id": "iE9jTARGCXuK",
        "outputId": "7a8f9d70-5a51-45bc-893b-36bd7a0e29a3"
      },
      "execution_count": null,
      "outputs": [
        {
          "output_type": "execute_result",
          "data": {
            "text/plain": [
              "{('PGZ', 'VCP'): ['8:45', '10:05', 735]}"
            ]
          },
          "metadata": {},
          "execution_count": 15
        }
      ]
    },
    {
      "cell_type": "code",
      "source": [
        "voos[('PGZ', 'VCP')]"
      ],
      "metadata": {
        "colab": {
          "base_uri": "https://localhost:8080/"
        },
        "id": "8y_XRM6FCb6e",
        "outputId": "aa3c540e-f0f9-4c6f-fd08-7962c9e73517"
      },
      "execution_count": null,
      "outputs": [
        {
          "output_type": "execute_result",
          "data": {
            "text/plain": [
              "['8:45', '10:05', 735]"
            ]
          },
          "metadata": {},
          "execution_count": 16
        }
      ]
    },
    {
      "cell_type": "code",
      "source": [
        "voos[('PGZ', 'VCP')][0], voos[('PGZ', 'VCP')][1], voos[('PGZ', 'VCP')][2]"
      ],
      "metadata": {
        "colab": {
          "base_uri": "https://localhost:8080/"
        },
        "id": "VJf7GOBeCslr",
        "outputId": "7e809434-ef0a-4f4e-de68-7a862adacf32"
      },
      "execution_count": null,
      "outputs": [
        {
          "output_type": "execute_result",
          "data": {
            "text/plain": [
              "('8:45', '10:05', 735)"
            ]
          },
          "metadata": {},
          "execution_count": 17
        }
      ]
    },
    {
      "cell_type": "code",
      "source": [
        "voos = {}\n",
        "for linha in open('/content/flights.txt'):\n",
        "  #print(linha)\n",
        "  #print(linha.split(','))\n",
        "  origem, destino, partida, chegada, preco = linha.split(',')\n",
        "  #print(origem, destino, partida, chegada, preco)\n",
        "  voos.setdefault((origem, destino), [])\n",
        "  voos[(origem, destino)].append((partida, chegada, int(preco)))"
      ],
      "metadata": {
        "id": "s42OG-2AC4Mu"
      },
      "execution_count": null,
      "outputs": []
    },
    {
      "cell_type": "code",
      "source": [
        "voos"
      ],
      "metadata": {
        "colab": {
          "base_uri": "https://localhost:8080/"
        },
        "id": "sNXGXnylDyDP",
        "outputId": "e7d62afd-c514-43dc-abf2-8ddf8a298ae3"
      },
      "execution_count": null,
      "outputs": [
        {
          "output_type": "execute_result",
          "data": {
            "text/plain": [
              "{('VCP', 'PGZ'): [('6:19', '8:13', 735),\n",
              "  ('8:04', '10:59', 1034),\n",
              "  ('9:31', '11:43', 540),\n",
              "  ('11:07', '13:24', 789),\n",
              "  ('12:31', '14:02', 510),\n",
              "  ('14:05', '15:47', 1100),\n",
              "  ('15:07', '17:21', 1250),\n",
              "  ('16:35', '18:56', 888),\n",
              "  ('18:25', '20:34', 670),\n",
              "  ('20:05', '21:44', 830)],\n",
              " ('PGZ', 'VCP'): [('6:11', '8:31', 820),\n",
              "  ('7:39', '10:24', 720),\n",
              "  ('9:15', '12:03', 655),\n",
              "  ('11:08', '13:07', 420),\n",
              "  ('12:18', '14:56', 1000),\n",
              "  ('13:37', '15:08', 1300),\n",
              "  ('15:03', '16:42', 999),\n",
              "  ('16:51', '19:09', 736),\n",
              "  ('18:12', '20:17', 770),\n",
              "  ('20:05', '22:06', 890)],\n",
              " ('VCP', 'CWB'): [('6:03', '8:43', 219),\n",
              "  ('7:50', '10:08', 870),\n",
              "  ('9:11', '10:42', 1100),\n",
              "  ('10:33', '13:11', 822),\n",
              "  ('12:08', '14:47', 1015),\n",
              "  ('14:19', '17:09', 1000),\n",
              "  ('15:04', '17:23', 960),\n",
              "  ('17:06', '20:00', 990),\n",
              "  ('18:33', '20:22', 1433),\n",
              "  ('19:32', '21:25', 1740)],\n",
              " ('CWB', 'VCP'): [('6:05', '8:32', 717),\n",
              "  ('8:25', '10:34', 920),\n",
              "  ('9:42', '11:32', 813),\n",
              "  ('11:01', '12:39', 910),\n",
              "  ('12:44', '14:17', 999),\n",
              "  ('14:22', '16:32', 830),\n",
              "  ('15:58', '18:40', 840),\n",
              "  ('16:43', '19:00', 1500),\n",
              "  ('18:48', '21:45', 1800),\n",
              "  ('19:50', '22:24', 660)],\n",
              " ('VCP', 'CGH'): [('6:33', '9:14', 610),\n",
              "  ('8:23', '11:07', 143),\n",
              "  ('9:25', '12:46', 295),\n",
              "  ('11:08', '14:38', 262),\n",
              "  ('12:37', '15:05', 170),\n",
              "  ('14:08', '16:09', 232),\n",
              "  ('15:23', '18:49', 150),\n",
              "  ('16:50', '19:26', 304),\n",
              "  ('18:07', '21:30', 355),\n",
              "  ('20:27', '23:42', 169)],\n",
              " ('CGH', 'VCP'): [('6:25', '9:30', 335),\n",
              "  ('7:34', '9:40', 324),\n",
              "  ('9:15', '12:29', 225),\n",
              "  ('11:28', '14:40', 248),\n",
              "  ('12:05', '15:30', 330),\n",
              "  ('14:01', '17:24', 338),\n",
              "  ('15:34', '18:11', 326),\n",
              "  ('17:07', '20:04', 291),\n",
              "  ('18:23', '21:35', 134),\n",
              "  ('19:53', '22:21', 173)],\n",
              " ('VCP', 'NVT'): [('6:39', '8:09', 860),\n",
              "  ('8:23', '10:28', 149),\n",
              "  ('9:58', '11:18', 530),\n",
              "  ('10:33', '12:03', 740),\n",
              "  ('12:08', '14:05', 542),\n",
              "  ('13:39', '15:30', 740),\n",
              "  ('15:25', '16:58', 620),\n",
              "  ('17:03', '18:03', 803),\n",
              "  ('18:24', '20:49', 624),\n",
              "  ('19:58', '21:23', 942)],\n",
              " ('NVT', 'VCP'): [('6:17', '8:26', 890),\n",
              "  ('8:04', '10:11', 950),\n",
              "  ('9:45', '11:50', 572),\n",
              "  ('11:16', '13:29', 830),\n",
              "  ('12:34', '15:02', 509),\n",
              "  ('13:40', '15:37', 838),\n",
              "  ('15:27', '17:18', 551),\n",
              "  ('17:11', '18:30', 908),\n",
              "  ('18:34', '19:36', 636),\n",
              "  ('20:17', '22:22', 802)],\n",
              " ('VCP', 'GRU'): [('6:09', '9:49', 414),\n",
              "  ('7:57', '11:15', 347),\n",
              "  ('9:49', '13:51', 229),\n",
              "  ('10:51', '14:16', 256),\n",
              "  ('12:20', '16:34', 500),\n",
              "  ('14:20', '17:32', 332),\n",
              "  ('15:49', '20:10', 497),\n",
              "  ('17:14', '20:59', 277),\n",
              "  ('18:44', '22:42', 351),\n",
              "  ('19:57', '23:15', 512)],\n",
              " ('GRU', 'VCP'): [('6:12', '10:22', 230),\n",
              "  ('7:53', '11:37', 433),\n",
              "  ('9:08', '12:12', 364),\n",
              "  ('10:30', '14:57', 290),\n",
              "  ('12:19', '15:25', 342),\n",
              "  ('13:54', '18:02', 294),\n",
              "  ('15:44', '18:55', 382),\n",
              "  ('16:52', '20:48', 448),\n",
              "  ('18:26', '21:29', 464),\n",
              "  ('20:07', '23:27', 473)],\n",
              " ('VCP', 'FLN'): [('6:58', '9:01', 1238),\n",
              "  ('8:19', '11:16', 1122),\n",
              "  ('9:58', '12:56', 1249),\n",
              "  ('10:32', '13:16', 1339),\n",
              "  ('12:01', '13:41', 1567),\n",
              "  ('13:37', '15:33', 1642),\n",
              "  ('15:50', '18:45', 1843),\n",
              "  ('16:33', '18:15', 1953),\n",
              "  ('18:17', '21:04', 1959),\n",
              "  ('19:46', '21:45', 1214)],\n",
              " ('FLN', 'VCP'): [('6:08', '8:06', 1224),\n",
              "  ('8:27', '10:45', 1139),\n",
              "  ('9:15', '12:14', 1247),\n",
              "  ('10:53', '13:36', 1489),\n",
              "  ('12:08', '14:59', 1549),\n",
              "  ('13:40', '15:38', 1837),\n",
              "  ('15:23', '17:25', 1932),\n",
              "  ('17:08', '19:08', 1862),\n",
              "  ('18:35', '20:28', 1004),\n",
              "  ('20:30', '23:11', 1114)]}"
            ]
          },
          "metadata": {},
          "execution_count": 19
        }
      ]
    },
    {
      "cell_type": "code",
      "source": [
        "voos[('FLN', 'VCP')]"
      ],
      "metadata": {
        "colab": {
          "base_uri": "https://localhost:8080/"
        },
        "id": "Uy66lXkiEQS-",
        "outputId": "9563991f-7cb9-4d59-99b7-511de46089e2"
      },
      "execution_count": null,
      "outputs": [
        {
          "output_type": "execute_result",
          "data": {
            "text/plain": [
              "[('6:08', '8:06', 1224),\n",
              " ('8:27', '10:45', 1139),\n",
              " ('9:15', '12:14', 1247),\n",
              " ('10:53', '13:36', 1489),\n",
              " ('12:08', '14:59', 1549),\n",
              " ('13:40', '15:38', 1837),\n",
              " ('15:23', '17:25', 1932),\n",
              " ('17:08', '19:08', 1862),\n",
              " ('18:35', '20:28', 1004),\n",
              " ('20:30', '23:11', 1114)]"
            ]
          },
          "metadata": {},
          "execution_count": 20
        }
      ]
    },
    {
      "cell_type": "code",
      "source": [
        "voos[('CWB', 'VCP')]"
      ],
      "metadata": {
        "id": "CO_x2WfXEYeo",
        "outputId": "acef20e8-4fd3-4c45-9a88-4a3b563c0d31",
        "colab": {
          "base_uri": "https://localhost:8080/"
        }
      },
      "execution_count": null,
      "outputs": [
        {
          "output_type": "execute_result",
          "data": {
            "text/plain": [
              "[('6:05', '8:32', 717),\n",
              " ('8:25', '10:34', 920),\n",
              " ('9:42', '11:32', 813),\n",
              " ('11:01', '12:39', 910),\n",
              " ('12:44', '14:17', 999),\n",
              " ('14:22', '16:32', 830),\n",
              " ('15:58', '18:40', 840),\n",
              " ('16:43', '19:00', 1500),\n",
              " ('18:48', '21:45', 1800),\n",
              " ('19:50', '22:24', 660)]"
            ]
          },
          "metadata": {},
          "execution_count": 21
        }
      ]
    },
    {
      "cell_type": "code",
      "source": [
        "# [1,4, 3,2, 7,3, 6,3, 2,4, 5,3]"
      ],
      "metadata": {
        "id": "CijuD6HajFXJ"
      },
      "execution_count": null,
      "outputs": []
    },
    {
      "cell_type": "code",
      "source": [
        "len([1,4, 3,2, 7,3, 6,3, 2,4, 5,3])"
      ],
      "metadata": {
        "colab": {
          "base_uri": "https://localhost:8080/"
        },
        "id": "gmHEPckkjkcj",
        "outputId": "2f0be091-d142-4a03-abf7-67451506b5a0"
      },
      "execution_count": null,
      "outputs": [
        {
          "output_type": "execute_result",
          "data": {
            "text/plain": [
              "12"
            ]
          },
          "metadata": {},
          "execution_count": 23
        }
      ]
    },
    {
      "cell_type": "code",
      "source": [
        "len([1,4, 3,2, 7,3, 6,3, 2,4, 5,3]) // 2"
      ],
      "metadata": {
        "colab": {
          "base_uri": "https://localhost:8080/"
        },
        "id": "HSHz8R3njpgD",
        "outputId": "4d495054-0825-4f84-9d93-d000a2cf85c4"
      },
      "execution_count": null,
      "outputs": [
        {
          "output_type": "execute_result",
          "data": {
            "text/plain": [
              "6"
            ]
          },
          "metadata": {},
          "execution_count": 24
        }
      ]
    },
    {
      "cell_type": "code",
      "source": [
        "def imprime_calendario(calendario):\n",
        "  voo_id = -1\n",
        "  preco_total = 0\n",
        "  for i in range(len(calendario) // 2):\n",
        "    nome = consultora[i][0]\n",
        "    #print(nome)\n",
        "    origem = consultora[i][1]\n",
        "    #print(origem)\n",
        "    voo_id += 1\n",
        "    voo_ida = voos[(origem, destino)][calendario[voo_id]]\n",
        "    #print(voo_ida)\n",
        "    preco_total += voo_ida[2]\n",
        "    voo_id += 1\n",
        "    voo_volta = voos[(destino, origem)][calendario[voo_id]]\n",
        "    preco_total += voo_volta[2]\n",
        "    print('%10s%10s %5s-%5s R$%3s %5s-%5s R$%3s' % (nome, origem, voo_ida[0], voo_ida[1], voo_ida[2], \n",
        "                                                    voo_volta[0], voo_volta[1], voo_volta[2]))\n",
        "  print('Preço total: R$',preco_total)"
      ],
      "metadata": {
        "id": "b37HkGCXjAnx"
      },
      "execution_count": null,
      "outputs": []
    },
    {
      "cell_type": "code",
      "source": [
        "imprime_calendario([1,5, 3,2, 7,3, 6,3, 2,4, 5,3])"
      ],
      "metadata": {
        "colab": {
          "base_uri": "https://localhost:8080/"
        },
        "id": "uGHu6CSfkDyX",
        "outputId": "8873cc02-3a97-4755-ea9f-da4e05384b46"
      },
      "execution_count": null,
      "outputs": [
        {
          "output_type": "stream",
          "name": "stdout",
          "text": [
            "Ponta-Grossa(PR)       PGZ  7:39-10:24 R$720 14:05-15:47 R$1100\n",
            "Curitiba(PR)       CWB 11:01-12:39 R$910  9:11-10:42 R$1100\n",
            "Sao-Paulo(SP)       CGH 17:07-20:04 R$291 11:08-14:38 R$262\n",
            "Navegantes(SC)       NVT 15:27-17:18 R$551 10:33-12:03 R$740\n",
            "Guarulhos(SP)       GRU  9:08-12:12 R$364 12:20-16:34 R$500\n",
            "Florianopolis(SC)       FLN 13:40-15:38 R$1837 10:32-13:16 R$1339\n",
            "Preço total: R$ 9714\n"
          ]
        }
      ]
    },
    {
      "cell_type": "code",
      "source": [
        "7 * 60 + 39, 10 * 60 + 32, 632 - 459"
      ],
      "metadata": {
        "colab": {
          "base_uri": "https://localhost:8080/"
        },
        "id": "Sszs7ucZnhWL",
        "outputId": "ae6dbdb6-59d6-4b21-ed68-552178b9fc27"
      },
      "execution_count": null,
      "outputs": [
        {
          "output_type": "execute_result",
          "data": {
            "text/plain": [
              "(459, 632, 173)"
            ]
          },
          "metadata": {},
          "execution_count": 27
        }
      ]
    },
    {
      "cell_type": "code",
      "source": [
        "t = time.strptime('7:39', '%H:%M')"
      ],
      "metadata": {
        "id": "G6UTAlp6n-YA"
      },
      "execution_count": null,
      "outputs": []
    },
    {
      "cell_type": "code",
      "source": [
        "t"
      ],
      "metadata": {
        "colab": {
          "base_uri": "https://localhost:8080/"
        },
        "id": "fTxz6X0ToMLM",
        "outputId": "332c78fa-a6db-47c4-eb1b-8c1132e44d37"
      },
      "execution_count": null,
      "outputs": [
        {
          "output_type": "execute_result",
          "data": {
            "text/plain": [
              "time.struct_time(tm_year=1900, tm_mon=1, tm_mday=1, tm_hour=7, tm_min=39, tm_sec=0, tm_wday=0, tm_yday=1, tm_isdst=-1)"
            ]
          },
          "metadata": {},
          "execution_count": 29
        }
      ]
    },
    {
      "cell_type": "code",
      "source": [
        "t[3], t[4], t[3] * 60 + t[4]"
      ],
      "metadata": {
        "colab": {
          "base_uri": "https://localhost:8080/"
        },
        "id": "W2FhWkMkoZrj",
        "outputId": "e0e2f390-2529-40d2-e82a-e608b2d1272d"
      },
      "execution_count": null,
      "outputs": [
        {
          "output_type": "execute_result",
          "data": {
            "text/plain": [
              "(7, 39, 459)"
            ]
          },
          "metadata": {},
          "execution_count": 30
        }
      ]
    },
    {
      "cell_type": "code",
      "source": [
        "def get_minutos(hora):\n",
        "  t = time.strptime(hora, '%H:%M')\n",
        "  minutos = t[3] * 60 + t[4]\n",
        "  return minutos"
      ],
      "metadata": {
        "id": "NeAFM40moqdt"
      },
      "execution_count": null,
      "outputs": []
    },
    {
      "cell_type": "code",
      "source": [
        "get_minutos('7:39'), get_minutos('10:32')"
      ],
      "metadata": {
        "colab": {
          "base_uri": "https://localhost:8080/"
        },
        "id": "3CtkJnnio20Y",
        "outputId": "30a80538-9502-476e-b9a0-f73275c987a7"
      },
      "execution_count": null,
      "outputs": [
        {
          "output_type": "execute_result",
          "data": {
            "text/plain": [
              "(459, 632)"
            ]
          },
          "metadata": {},
          "execution_count": 32
        }
      ]
    },
    {
      "cell_type": "markdown",
      "source": [
        "# Calendário (fitness function)"
      ],
      "metadata": {
        "id": "O-sxvdN08XTI"
      }
    },
    {
      "cell_type": "code",
      "source": [
        "get_minutos('23:59')"
      ],
      "metadata": {
        "colab": {
          "base_uri": "https://localhost:8080/"
        },
        "id": "GTppc0Pbr9ES",
        "outputId": "1979508a-d1b6-4130-bc58-2991dc9f4790"
      },
      "execution_count": null,
      "outputs": [
        {
          "output_type": "execute_result",
          "data": {
            "text/plain": [
              "1439"
            ]
          },
          "metadata": {},
          "execution_count": 33
        }
      ]
    },
    {
      "cell_type": "code",
      "source": [
        "def funcao_avaliacao(calendario):\n",
        "  preco_total = 0\n",
        "  ultima_chegada = 0\n",
        "  primeira_partida = 1439\n",
        "\n",
        "  voo_id = -1\n",
        "  for i in range(len(calendario) // 2):\n",
        "    origem = consultora[i][1]\n",
        "    voo_id += 1\n",
        "    voo_ida = voos[(origem, destino)][calendario[voo_id]]\n",
        "    voo_id += 1\n",
        "    voo_volta = voos[(destino, origem)][calendario[voo_id]]\n",
        "\n",
        "    preco_total += voo_ida[2]\n",
        "    preco_total += voo_volta[2]\n",
        "\n",
        "    if ultima_chegada < get_minutos(voo_ida[1]):\n",
        "      ultima_chegada = get_minutos(voo_ida[1])\n",
        "    if primeira_partida > get_minutos(voo_volta[0]):\n",
        "      primeira_partida = get_minutos(voo_volta[0])\n",
        "\n",
        "  #print(preco_total)\n",
        "  #print(ultima_chegada)\n",
        "  #print(primeira_partida)\n",
        "\n",
        "  espera_total = 0\n",
        "  voo_id = -1\n",
        "  for i in range(len(calendario) // 2):\n",
        "    origem = consultora[i][1]\n",
        "    voo_id += 1\n",
        "    voo_ida = voos[(origem, destino)][calendario[voo_id]]\n",
        "    voo_id += 1\n",
        "    voo_volta = voos[(destino, origem)][calendario[voo_id]]\n",
        "\n",
        "    espera_total += ultima_chegada - get_minutos(voo_ida[1])\n",
        "    #print()\n",
        "    #print(ultima_chegada - get_minutos(voo_ida[1]))\n",
        "    espera_total += get_minutos(voo_volta[0]) - primeira_partida\n",
        "    #print()\n",
        "    #print(get_minutos(voo_volta[0]) - primeira_partida)\n",
        "\n",
        "  return espera_total + preco_total"
      ],
      "metadata": {
        "id": "3x3L1PWQrbcs"
      },
      "execution_count": null,
      "outputs": []
    },
    {
      "cell_type": "code",
      "source": [
        "funcao_avaliacao([1,4, 3,1, 8,3, 6,3, 2,4, 5,3])"
      ],
      "metadata": {
        "colab": {
          "base_uri": "https://localhost:8080/"
        },
        "id": "OxTphkWesu9Y",
        "outputId": "48661624-03b5-4182-e27e-f57d03eb1f8d"
      },
      "execution_count": null,
      "outputs": [
        {
          "output_type": "execute_result",
          "data": {
            "text/plain": [
              "12195"
            ]
          },
          "metadata": {},
          "execution_count": 35
        }
      ]
    },
    {
      "cell_type": "code",
      "source": [
        "get_minutos('11:08') - 470"
      ],
      "metadata": {
        "colab": {
          "base_uri": "https://localhost:8080/"
        },
        "id": "E77bkBDexLqs",
        "outputId": "0db8f10f-f4b5-4b11-d9de-e6203b211480"
      },
      "execution_count": null,
      "outputs": [
        {
          "output_type": "execute_result",
          "data": {
            "text/plain": [
              "198"
            ]
          },
          "metadata": {},
          "execution_count": 36
        }
      ]
    },
    {
      "cell_type": "code",
      "source": [
        "1204 - get_minutos('17:18')"
      ],
      "metadata": {
        "colab": {
          "base_uri": "https://localhost:8080/"
        },
        "id": "t7Gz3_QGwQr4",
        "outputId": "eb5b1d9b-7aaa-4a81-fb17-5e8bc5d3eea1"
      },
      "execution_count": null,
      "outputs": [
        {
          "output_type": "execute_result",
          "data": {
            "text/plain": [
              "166"
            ]
          },
          "metadata": {},
          "execution_count": 37
        }
      ]
    },
    {
      "cell_type": "code",
      "source": [
        "imprime_calendario([1,5, 3,1, 7,3, 6,3, 2,4, 5,3])"
      ],
      "metadata": {
        "colab": {
          "base_uri": "https://localhost:8080/"
        },
        "id": "MY_XAk9DuXSp",
        "outputId": "3004b182-2202-4223-b93a-5334a7b250e9"
      },
      "execution_count": null,
      "outputs": [
        {
          "output_type": "stream",
          "name": "stdout",
          "text": [
            "Ponta-Grossa(PR)       PGZ  7:39-10:24 R$720 14:05-15:47 R$1100\n",
            "Curitiba(PR)       CWB 11:01-12:39 R$910  7:50-10:08 R$870\n",
            "Sao-Paulo(SP)       CGH 17:07-20:04 R$291 11:08-14:38 R$262\n",
            "Navegantes(SC)       NVT 15:27-17:18 R$551 10:33-12:03 R$740\n",
            "Guarulhos(SP)       GRU  9:08-12:12 R$364 12:20-16:34 R$500\n",
            "Florianopolis(SC)       FLN 13:40-15:38 R$1837 10:32-13:16 R$1339\n",
            "Preço total: R$ 9484\n"
          ]
        }
      ]
    },
    {
      "cell_type": "code",
      "source": [
        "get_minutos('20:04'), get_minutos('7:50')"
      ],
      "metadata": {
        "colab": {
          "base_uri": "https://localhost:8080/"
        },
        "id": "FBAMvf20ueIr",
        "outputId": "8a1f2cbe-9726-4259-e152-c4cb75728704"
      },
      "execution_count": null,
      "outputs": [
        {
          "output_type": "execute_result",
          "data": {
            "text/plain": [
              "(1204, 470)"
            ]
          },
          "metadata": {},
          "execution_count": 39
        }
      ]
    },
    {
      "cell_type": "code",
      "source": [
        "len(consultora) * 2"
      ],
      "metadata": {
        "colab": {
          "base_uri": "https://localhost:8080/"
        },
        "id": "zPNM6FRF1Yym",
        "outputId": "bb25f784-fd6e-4139-f49b-0014e9db9e74"
      },
      "execution_count": null,
      "outputs": [
        {
          "output_type": "execute_result",
          "data": {
            "text/plain": [
              "12"
            ]
          },
          "metadata": {},
          "execution_count": 40
        }
      ]
    },
    {
      "cell_type": "code",
      "source": [
        "dominio = [(0, 9)] * (len(consultora) * 2)\n",
        "dominio, len(dominio)"
      ],
      "metadata": {
        "colab": {
          "base_uri": "https://localhost:8080/"
        },
        "id": "SsAinBf01Nai",
        "outputId": "ebb583dc-7d7b-4da9-c060-16116d16d8f6"
      },
      "execution_count": null,
      "outputs": [
        {
          "output_type": "execute_result",
          "data": {
            "text/plain": [
              "([(0, 9),\n",
              "  (0, 9),\n",
              "  (0, 9),\n",
              "  (0, 9),\n",
              "  (0, 9),\n",
              "  (0, 9),\n",
              "  (0, 9),\n",
              "  (0, 9),\n",
              "  (0, 9),\n",
              "  (0, 9),\n",
              "  (0, 9),\n",
              "  (0, 9)],\n",
              " 12)"
            ]
          },
          "metadata": {},
          "execution_count": 41
        }
      ]
    },
    {
      "cell_type": "markdown",
      "source": [
        "# Mutação"
      ],
      "metadata": {
        "id": "pDakgRDi8e_T"
      }
    },
    {
      "cell_type": "code",
      "source": [
        "len(dominio) - 1"
      ],
      "metadata": {
        "colab": {
          "base_uri": "https://localhost:8080/"
        },
        "id": "RsWpd93U2tPq",
        "outputId": "338076c9-a40d-4e40-c518-01f99ff1b18a"
      },
      "execution_count": null,
      "outputs": [
        {
          "output_type": "execute_result",
          "data": {
            "text/plain": [
              "11"
            ]
          },
          "metadata": {},
          "execution_count": 42
        }
      ]
    },
    {
      "cell_type": "code",
      "source": [
        "random.random() # 0.2"
      ],
      "metadata": {
        "colab": {
          "base_uri": "https://localhost:8080/"
        },
        "id": "8m_HRr6-3dAo",
        "outputId": "723d3c54-da0e-443c-f4f2-2589098d8b63"
      },
      "execution_count": null,
      "outputs": [
        {
          "output_type": "execute_result",
          "data": {
            "text/plain": [
              "0.039117696536610125"
            ]
          },
          "metadata": {},
          "execution_count": 43
        }
      ]
    },
    {
      "cell_type": "code",
      "source": [
        "def mutacao(dominio, passo, calendario, probabilidade):\n",
        "  gene = random.randint(0, len(dominio) - 1)\n",
        "  #print(gene)\n",
        "  mutante = calendario\n",
        "  if random.random() < probabilidade: # 0.02, 0.05\n",
        "    if calendario[gene] != dominio[gene][0]:\n",
        "      mutante = calendario[0:gene] + [calendario[gene] - passo] + calendario[gene + 1:]\n",
        "      #print(mutante)\n",
        "    else:\n",
        "      if calendario[gene] != dominio[gene][1]:\n",
        "        mutante = calendario[0:gene] + [calendario[gene] + passo] + calendario[gene + 1:]\n",
        "  return mutante"
      ],
      "metadata": {
        "id": "dvznihkw1JvX"
      },
      "execution_count": null,
      "outputs": []
    },
    {
      "cell_type": "code",
      "source": [
        "mutacao(dominio, 1, [6, 7, 6, 7, 3, 9, 7, 7, 0, 7, 6, 7], 0.05)"
      ],
      "metadata": {
        "colab": {
          "base_uri": "https://localhost:8080/"
        },
        "id": "hmO0Oujl24yd",
        "outputId": "70284f6b-24ab-4794-ab6e-695b8eb83f67"
      },
      "execution_count": null,
      "outputs": [
        {
          "output_type": "execute_result",
          "data": {
            "text/plain": [
              "[6, 7, 6, 7, 3, 9, 7, 7, 0, 7, 6, 7]"
            ]
          },
          "metadata": {},
          "execution_count": 45
        }
      ]
    },
    {
      "cell_type": "markdown",
      "source": [
        "# Crossover"
      ],
      "metadata": {
        "id": "dEH0j8yp8gQ5"
      }
    },
    {
      "cell_type": "code",
      "source": [
        "dominio"
      ],
      "metadata": {
        "colab": {
          "base_uri": "https://localhost:8080/"
        },
        "id": "MhCPbDXDvLHp",
        "outputId": "98ed94c6-d0e3-4415-d594-cf802ea87656"
      },
      "execution_count": null,
      "outputs": [
        {
          "output_type": "execute_result",
          "data": {
            "text/plain": [
              "[(0, 9),\n",
              " (0, 9),\n",
              " (0, 9),\n",
              " (0, 9),\n",
              " (0, 9),\n",
              " (0, 9),\n",
              " (0, 9),\n",
              " (0, 9),\n",
              " (0, 9),\n",
              " (0, 9),\n",
              " (0, 9),\n",
              " (0, 9)]"
            ]
          },
          "metadata": {},
          "execution_count": 46
        }
      ]
    },
    {
      "cell_type": "code",
      "source": [
        "# [6, 7, 6, 7, 3, 9, 7, 7, 0, 7, 6, 7]"
      ],
      "metadata": {
        "id": "7pqOd5X7vfdS"
      },
      "execution_count": null,
      "outputs": []
    },
    {
      "cell_type": "code",
      "source": [
        "len(dominio) - 2 # 1 - 10"
      ],
      "metadata": {
        "colab": {
          "base_uri": "https://localhost:8080/"
        },
        "id": "Vo8zhkARvvMw",
        "outputId": "e51daf90-056c-4125-c8b1-1f1aa7bcc954"
      },
      "execution_count": null,
      "outputs": [
        {
          "output_type": "execute_result",
          "data": {
            "text/plain": [
              "10"
            ]
          },
          "metadata": {},
          "execution_count": 48
        }
      ]
    },
    {
      "cell_type": "code",
      "source": [
        "def crossover(dominio, individuo1, individuo2):\n",
        "  gene = random.randint(1, len(dominio) - 2)\n",
        "  #print(gene)\n",
        "  return individuo1[0:gene] + individuo2[gene:]"
      ],
      "metadata": {
        "id": "Zweu7TT9vGS_"
      },
      "execution_count": null,
      "outputs": []
    },
    {
      "cell_type": "code",
      "source": [
        "s1 = [1,4, 3,2, 7,3, 6,3, 2,4, 5,3]\n",
        "s2 = [0,1, 2,5, 8,9, 2,3, 5,1, 0,6]"
      ],
      "metadata": {
        "id": "_U6nGLRawRZJ"
      },
      "execution_count": null,
      "outputs": []
    },
    {
      "cell_type": "code",
      "source": [
        "crossover(dominio, s1, s2)"
      ],
      "metadata": {
        "colab": {
          "base_uri": "https://localhost:8080/"
        },
        "id": "ALoW9uh4wUSZ",
        "outputId": "99f9f4ce-8ebc-4783-a1c0-cb068a79a585"
      },
      "execution_count": null,
      "outputs": [
        {
          "output_type": "execute_result",
          "data": {
            "text/plain": [
              "[1, 4, 3, 2, 7, 3, 6, 3, 2, 1, 0, 6]"
            ]
          },
          "metadata": {},
          "execution_count": 51
        }
      ]
    },
    {
      "cell_type": "markdown",
      "source": [
        "# Algoritimo genético"
      ],
      "metadata": {
        "id": "BP4Ahx0J8jI-"
      }
    },
    {
      "cell_type": "code",
      "source": [
        "def algoritmo_genetico(dominio, funcao_avaliacao, tamanho_populacao = 100, passo = 1,\n",
        "                       elitismo = 0.2, numero_geracoes = 500, probabilidade_mutacao = 0.05):\n",
        "  populacao = []\n",
        "  for i in range(tamanho_populacao):\n",
        "    individuo = [random.randint(dominio[i][0], dominio[i][1]) for i in range(len(dominio))]\n",
        "    populacao.append(individuo)\n",
        "  #print(populacao)\n",
        "  #print(len(populacao))\n",
        "  numero_elitismo = int(elitismo * tamanho_populacao)\n",
        "  #print(numero_elitismo)\n",
        "  #print('Tamanho da população: ', len(populacao))\n",
        "\n",
        "  for i in range(numero_geracoes):\n",
        "    custos = [(funcao_avaliacao(individuo), individuo) for individuo in populacao]\n",
        "    #print(custos)\n",
        "    custos.sort()\n",
        "    #print(custos)\n",
        "    individuos_ordenados = [individuo for (custo, individuo) in custos]\n",
        "    #print(individuos_ordenados)\n",
        "    populacao = individuos_ordenados[0:numero_elitismo] # 0:2\n",
        "    while len(populacao) < tamanho_populacao:\n",
        "      i1 = random.randint(0, numero_elitismo)\n",
        "      i2 = random.randint(0, numero_elitismo)\n",
        "      #print(i1, i2, individuos_ordenados[i1], individuos_ordenados[i2])\n",
        "      novo_individuo = crossover(dominio, individuos_ordenados[i1], individuos_ordenados[i2])\n",
        "      #print(novo_individuo)\n",
        "      mutacao_novo_individuo = mutacao(dominio, passo, novo_individuo, probabilidade_mutacao)\n",
        "      #print(novo_individuo)\n",
        "      #print(mutacao_novo_individuo)\n",
        "      #print()\n",
        "      populacao.append(mutacao_novo_individuo)\n",
        "\n",
        "    #print('Tamanho da população: ', len(populacao))\n",
        "  #print(custos)\n",
        "  return custos[0][1]"
      ],
      "metadata": {
        "id": "7E0x3kXszJB5"
      },
      "execution_count": null,
      "outputs": []
    },
    {
      "cell_type": "code",
      "source": [
        "solucao = algoritmo_genetico(dominio, funcao_avaliacao, numero_geracoes = 100, tamanho_populacao=100, \n",
        "                             elitismo = 0.2, probabilidade_mutacao = 0.05)"
      ],
      "metadata": {
        "id": "_UpLd1TO1EpZ"
      },
      "execution_count": null,
      "outputs": []
    },
    {
      "cell_type": "code",
      "source": [
        "solucao"
      ],
      "metadata": {
        "colab": {
          "base_uri": "https://localhost:8080/"
        },
        "id": "2A2UIV_wCqfa",
        "outputId": "33128753-2f4f-4d2e-9320-49c114ecdf6c"
      },
      "execution_count": null,
      "outputs": [
        {
          "output_type": "execute_result",
          "data": {
            "text/plain": [
              "[8, 2, 9, 0, 9, 1, 8, 1, 5, 0, 8, 1]"
            ]
          },
          "metadata": {},
          "execution_count": 54
        }
      ]
    },
    {
      "cell_type": "code",
      "source": [
        "funcao_avaliacao(solucao)"
      ],
      "metadata": {
        "colab": {
          "base_uri": "https://localhost:8080/"
        },
        "id": "iWiPqHSyCt33",
        "outputId": "adfb6a33-00dc-4c98-f202-9e0e976a4269"
      },
      "execution_count": null,
      "outputs": [
        {
          "output_type": "execute_result",
          "data": {
            "text/plain": [
              "7430"
            ]
          },
          "metadata": {},
          "execution_count": 55
        }
      ]
    },
    {
      "cell_type": "code",
      "source": [
        "imprime_calendario(solucao)"
      ],
      "metadata": {
        "id": "ifnoRLSiDJEZ",
        "outputId": "fed4c618-7a4b-49c4-98f6-4e046d540911",
        "colab": {
          "base_uri": "https://localhost:8080/"
        }
      },
      "execution_count": null,
      "outputs": [
        {
          "output_type": "stream",
          "name": "stdout",
          "text": [
            "Ponta-Grossa(PR)       PGZ 18:12-20:17 R$770  9:31-11:43 R$540\n",
            "Curitiba(PR)       CWB 19:50-22:24 R$660  6:03- 8:43 R$219\n",
            "Sao-Paulo(SP)       CGH 19:53-22:21 R$173  8:23-11:07 R$143\n",
            "Navegantes(SC)       NVT 18:34-19:36 R$636  8:23-10:28 R$149\n",
            "Guarulhos(SP)       GRU 13:54-18:02 R$294  6:09- 9:49 R$414\n",
            "Florianopolis(SC)       FLN 18:35-20:28 R$1004  8:19-11:16 R$1122\n",
            "Preço total: R$ 6124\n"
          ]
        }
      ]
    }
  ]
}